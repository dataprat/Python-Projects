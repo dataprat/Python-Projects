{
  "nbformat": 4,
  "nbformat_minor": 0,
  "metadata": {
    "colab": {
      "provenance": [],
      "authorship_tag": "ABX9TyP7cI+wnFM2pxTFrnZEBzFX"
    },
    "kernelspec": {
      "name": "python3",
      "display_name": "Python 3"
    },
    "language_info": {
      "name": "python"
    }
  },
  "cells": [
    {
      "cell_type": "code",
      "execution_count": null,
      "metadata": {
        "id": "iQMviEP0_aJp"
      },
      "outputs": [],
      "source": [
        "import pandas as pd                                    # Importing the required libraries\n",
        "import numpy as np\n",
        "import matplotlib.pyplot as plt\n",
        "import seaborn as sns\n",
        "import datetime as dt"
      ]
    },
    {
      "cell_type": "code",
      "source": [
        "from google.colab import files\n",
        "\n",
        "uploaded = files.upload()                               # Uploading the file"
      ],
      "metadata": {
        "colab": {
          "base_uri": "https://localhost:8080/",
          "height": 73
        },
        "id": "iFm90uIj_-2z",
        "outputId": "3ff7fe82-5604-438f-8796-62c9dd63d3f8"
      },
      "execution_count": null,
      "outputs": [
        {
          "output_type": "display_data",
          "data": {
            "text/plain": [
              "<IPython.core.display.HTML object>"
            ],
            "text/html": [
              "\n",
              "     <input type=\"file\" id=\"files-2361f481-50a4-43cf-b75f-b23cef4283f6\" name=\"files[]\" multiple disabled\n",
              "        style=\"border:none\" />\n",
              "     <output id=\"result-2361f481-50a4-43cf-b75f-b23cef4283f6\">\n",
              "      Upload widget is only available when the cell has been executed in the\n",
              "      current browser session. Please rerun this cell to enable.\n",
              "      </output>\n",
              "      <script>// Copyright 2017 Google LLC\n",
              "//\n",
              "// Licensed under the Apache License, Version 2.0 (the \"License\");\n",
              "// you may not use this file except in compliance with the License.\n",
              "// You may obtain a copy of the License at\n",
              "//\n",
              "//      http://www.apache.org/licenses/LICENSE-2.0\n",
              "//\n",
              "// Unless required by applicable law or agreed to in writing, software\n",
              "// distributed under the License is distributed on an \"AS IS\" BASIS,\n",
              "// WITHOUT WARRANTIES OR CONDITIONS OF ANY KIND, either express or implied.\n",
              "// See the License for the specific language governing permissions and\n",
              "// limitations under the License.\n",
              "\n",
              "/**\n",
              " * @fileoverview Helpers for google.colab Python module.\n",
              " */\n",
              "(function(scope) {\n",
              "function span(text, styleAttributes = {}) {\n",
              "  const element = document.createElement('span');\n",
              "  element.textContent = text;\n",
              "  for (const key of Object.keys(styleAttributes)) {\n",
              "    element.style[key] = styleAttributes[key];\n",
              "  }\n",
              "  return element;\n",
              "}\n",
              "\n",
              "// Max number of bytes which will be uploaded at a time.\n",
              "const MAX_PAYLOAD_SIZE = 100 * 1024;\n",
              "\n",
              "function _uploadFiles(inputId, outputId) {\n",
              "  const steps = uploadFilesStep(inputId, outputId);\n",
              "  const outputElement = document.getElementById(outputId);\n",
              "  // Cache steps on the outputElement to make it available for the next call\n",
              "  // to uploadFilesContinue from Python.\n",
              "  outputElement.steps = steps;\n",
              "\n",
              "  return _uploadFilesContinue(outputId);\n",
              "}\n",
              "\n",
              "// This is roughly an async generator (not supported in the browser yet),\n",
              "// where there are multiple asynchronous steps and the Python side is going\n",
              "// to poll for completion of each step.\n",
              "// This uses a Promise to block the python side on completion of each step,\n",
              "// then passes the result of the previous step as the input to the next step.\n",
              "function _uploadFilesContinue(outputId) {\n",
              "  const outputElement = document.getElementById(outputId);\n",
              "  const steps = outputElement.steps;\n",
              "\n",
              "  const next = steps.next(outputElement.lastPromiseValue);\n",
              "  return Promise.resolve(next.value.promise).then((value) => {\n",
              "    // Cache the last promise value to make it available to the next\n",
              "    // step of the generator.\n",
              "    outputElement.lastPromiseValue = value;\n",
              "    return next.value.response;\n",
              "  });\n",
              "}\n",
              "\n",
              "/**\n",
              " * Generator function which is called between each async step of the upload\n",
              " * process.\n",
              " * @param {string} inputId Element ID of the input file picker element.\n",
              " * @param {string} outputId Element ID of the output display.\n",
              " * @return {!Iterable<!Object>} Iterable of next steps.\n",
              " */\n",
              "function* uploadFilesStep(inputId, outputId) {\n",
              "  const inputElement = document.getElementById(inputId);\n",
              "  inputElement.disabled = false;\n",
              "\n",
              "  const outputElement = document.getElementById(outputId);\n",
              "  outputElement.innerHTML = '';\n",
              "\n",
              "  const pickedPromise = new Promise((resolve) => {\n",
              "    inputElement.addEventListener('change', (e) => {\n",
              "      resolve(e.target.files);\n",
              "    });\n",
              "  });\n",
              "\n",
              "  const cancel = document.createElement('button');\n",
              "  inputElement.parentElement.appendChild(cancel);\n",
              "  cancel.textContent = 'Cancel upload';\n",
              "  const cancelPromise = new Promise((resolve) => {\n",
              "    cancel.onclick = () => {\n",
              "      resolve(null);\n",
              "    };\n",
              "  });\n",
              "\n",
              "  // Wait for the user to pick the files.\n",
              "  const files = yield {\n",
              "    promise: Promise.race([pickedPromise, cancelPromise]),\n",
              "    response: {\n",
              "      action: 'starting',\n",
              "    }\n",
              "  };\n",
              "\n",
              "  cancel.remove();\n",
              "\n",
              "  // Disable the input element since further picks are not allowed.\n",
              "  inputElement.disabled = true;\n",
              "\n",
              "  if (!files) {\n",
              "    return {\n",
              "      response: {\n",
              "        action: 'complete',\n",
              "      }\n",
              "    };\n",
              "  }\n",
              "\n",
              "  for (const file of files) {\n",
              "    const li = document.createElement('li');\n",
              "    li.append(span(file.name, {fontWeight: 'bold'}));\n",
              "    li.append(span(\n",
              "        `(${file.type || 'n/a'}) - ${file.size} bytes, ` +\n",
              "        `last modified: ${\n",
              "            file.lastModifiedDate ? file.lastModifiedDate.toLocaleDateString() :\n",
              "                                    'n/a'} - `));\n",
              "    const percent = span('0% done');\n",
              "    li.appendChild(percent);\n",
              "\n",
              "    outputElement.appendChild(li);\n",
              "\n",
              "    const fileDataPromise = new Promise((resolve) => {\n",
              "      const reader = new FileReader();\n",
              "      reader.onload = (e) => {\n",
              "        resolve(e.target.result);\n",
              "      };\n",
              "      reader.readAsArrayBuffer(file);\n",
              "    });\n",
              "    // Wait for the data to be ready.\n",
              "    let fileData = yield {\n",
              "      promise: fileDataPromise,\n",
              "      response: {\n",
              "        action: 'continue',\n",
              "      }\n",
              "    };\n",
              "\n",
              "    // Use a chunked sending to avoid message size limits. See b/62115660.\n",
              "    let position = 0;\n",
              "    do {\n",
              "      const length = Math.min(fileData.byteLength - position, MAX_PAYLOAD_SIZE);\n",
              "      const chunk = new Uint8Array(fileData, position, length);\n",
              "      position += length;\n",
              "\n",
              "      const base64 = btoa(String.fromCharCode.apply(null, chunk));\n",
              "      yield {\n",
              "        response: {\n",
              "          action: 'append',\n",
              "          file: file.name,\n",
              "          data: base64,\n",
              "        },\n",
              "      };\n",
              "\n",
              "      let percentDone = fileData.byteLength === 0 ?\n",
              "          100 :\n",
              "          Math.round((position / fileData.byteLength) * 100);\n",
              "      percent.textContent = `${percentDone}% done`;\n",
              "\n",
              "    } while (position < fileData.byteLength);\n",
              "  }\n",
              "\n",
              "  // All done.\n",
              "  yield {\n",
              "    response: {\n",
              "      action: 'complete',\n",
              "    }\n",
              "  };\n",
              "}\n",
              "\n",
              "scope.google = scope.google || {};\n",
              "scope.google.colab = scope.google.colab || {};\n",
              "scope.google.colab._files = {\n",
              "  _uploadFiles,\n",
              "  _uploadFilesContinue,\n",
              "};\n",
              "})(self);\n",
              "</script> "
            ]
          },
          "metadata": {}
        },
        {
          "output_type": "stream",
          "name": "stdout",
          "text": [
            "Saving Covid Dataset.xlsx to Covid Dataset.xlsx\n"
          ]
        }
      ]
    },
    {
      "cell_type": "code",
      "source": [
        "df = pd.read_excel(\"Covid Dataset.xlsx\")\n",
        "df"
      ],
      "metadata": {
        "id": "pAeZsDI0Buyz"
      },
      "execution_count": null,
      "outputs": []
    },
    {
      "cell_type": "code",
      "source": [
        "df.head(20)"
      ],
      "metadata": {
        "id": "PufppB-ZCJ02"
      },
      "execution_count": null,
      "outputs": []
    },
    {
      "cell_type": "code",
      "source": [
        "df.tail(20)"
      ],
      "metadata": {
        "id": "dXcPcd3ICX7-"
      },
      "execution_count": null,
      "outputs": []
    },
    {
      "cell_type": "code",
      "source": [
        "df.shape"
      ],
      "metadata": {
        "id": "1nsk77f9CkFY"
      },
      "execution_count": null,
      "outputs": []
    },
    {
      "cell_type": "code",
      "source": [
        "df.info()"
      ],
      "metadata": {
        "id": "zPv_rjaDCriF"
      },
      "execution_count": null,
      "outputs": []
    },
    {
      "cell_type": "code",
      "source": [
        "df.describe()"
      ],
      "metadata": {
        "id": "g_Afxxj-CzDP"
      },
      "execution_count": null,
      "outputs": []
    },
    {
      "cell_type": "code",
      "source": [
        "df.isna().sum()"
      ],
      "metadata": {
        "id": "pKequfn-DY97"
      },
      "execution_count": null,
      "outputs": []
    },
    {
      "cell_type": "code",
      "source": [
        "df[\"State/UnionTerritory\"].unique(),df[\"State/UnionTerritory\"].nunique()"
      ],
      "metadata": {
        "id": "I2TL-1tVEqeu"
      },
      "execution_count": null,
      "outputs": []
    },
    {
      "cell_type": "code",
      "source": [
        "name_correction_dict = {'Bihar****':'Bihar',\n",
        "    'Dadra and Nagar Haveli':'Dadra and Nagar Haveli and Daman and Diu',\n",
        "    'Madhya Pradesh***':'Madhya Pradesh',\n",
        "    'Maharashtra***':'Maharashtra',\n",
        "    'Karanataka':'Karnataka'}\n",
        "\n",
        "def state_correction(state):\n",
        "  try:\n",
        "    return name_correction_dict[\"state\"]\n",
        "\n",
        "  except:\n",
        "    return state\n",
        "\n",
        "\n",
        "df[\"State/UnionTerritory\"] = df[\"State/UnionTerritory\"].apply(state_correction)\n",
        "\n",
        "\n",
        "df[\"State/UnionTerritory\"].unique()"
      ],
      "metadata": {
        "id": "TGKeX_1rFGp-"
      },
      "execution_count": null,
      "outputs": []
    },
    {
      "cell_type": "code",
      "source": [
        "df[\"Date\"] = pd.to_datetime(df[\"Date\"])\n",
        "\n",
        "df[\"Date\"] = df[\"Date\"].dt.strftime(\"%d-%m -%Y\")\n",
        "\n",
        "df[\"Date\"]"
      ],
      "metadata": {
        "id": "Y6gyUSG8ISaw"
      },
      "execution_count": null,
      "outputs": []
    },
    {
      "cell_type": "code",
      "source": [
        "df.drop([\"Time\",\"ConfirmedIndianNational\",\"ConfirmedForeignNational\"],axis = 1, inplace = True)"
      ],
      "metadata": {
        "id": "NkvN7732JQ8z"
      },
      "execution_count": null,
      "outputs": []
    },
    {
      "cell_type": "code",
      "source": [
        "df.head()"
      ],
      "metadata": {
        "id": "HSohnFH6JdEq"
      },
      "execution_count": null,
      "outputs": []
    },
    {
      "cell_type": "code",
      "source": [
        "num_columns = df.select_dtypes(exclude = \"object\")\n",
        "\n",
        "num_columns"
      ],
      "metadata": {
        "id": "plmxPTi5KJgM"
      },
      "execution_count": null,
      "outputs": []
    },
    {
      "cell_type": "code",
      "source": [
        "str_columns = df.select_dtypes(exclude = \"int\")                        #\"Getting only categorical data\"\n",
        "\n",
        "str_columns"
      ],
      "metadata": {
        "id": "2_A7bLOcKaca"
      },
      "execution_count": null,
      "outputs": []
    },
    {
      "cell_type": "code",
      "source": [
        "df[\"Active_Cases\"] = df[\"Confirmed\"] - df[\"Cured\"] - df[\"Deaths\"]\n",
        "\n",
        "df"
      ],
      "metadata": {
        "id": "npzOMia6K521"
      },
      "execution_count": null,
      "outputs": []
    },
    {
      "cell_type": "code",
      "source": [
        "statewise = pd.pivot_table(df,values = [\"Active_Cases\",\"Confirmed\",\"Cured\",\"Deaths\"],index = \"State/UnionTerritory\",aggfunc = \"max\",margins = True)\n",
        "\n",
        "\n",
        "\n",
        "# statewise = pd.pivot_table(df,values=['Cured','Deaths','Confirmed'],index='State/UnionTerritory',aggfunc='max',margins=True)\n",
        "statewise"
      ],
      "metadata": {
        "id": "BNIC0f69Latj"
      },
      "execution_count": null,
      "outputs": []
    },
    {
      "cell_type": "code",
      "source": [
        "df_highest_cases_10 = df.nlargest(10,[\"Active_Cases\"])\n",
        "\n",
        "df_highest_cases_10 = df.groupby([\"State/UnionTerritory\"])[\"Active_Cases\"].max().sort_values(ascending = False).reset_index()\n",
        "\n",
        "df_highest_cases_10\n",
        "\n",
        "highest_active_statewise = df_highest_cases_10.nlargest(10,[\"Active_Cases\"])\n",
        "\n",
        "highest_active_statewise"
      ],
      "metadata": {
        "id": "QNhTlBbqM5PC"
      },
      "execution_count": null,
      "outputs": []
    },
    {
      "cell_type": "code",
      "source": [
        "df_most_deaths_10 = df.nlargest(10,[\"Deaths\"])\n",
        "\n",
        "df_most_deaths_10 = df.groupby([\"State/UnionTerritory\"])[\"Deaths\"].max().sort_values(ascending = False).reset_index()\n",
        "\n",
        "df_most_deaths_10\n",
        "\n",
        "df_deaths_statewise = df_most_deaths_10.nlargest(10,[\"Deaths\"])\n",
        "\n",
        "df_deaths_statewise"
      ],
      "metadata": {
        "id": "eWwFl_p1Pxux"
      },
      "execution_count": null,
      "outputs": []
    },
    {
      "cell_type": "code",
      "source": [
        "statewise[\"Recovery Rate\"]= statewise[\"Cured\"]*100/statewise[\"Confirmed\"]\n",
        "\n",
        "statewise[\"Death Rate\"]= statewise[\"Deaths\"]*100/statewise[\"Confirmed\"]\n",
        "\n",
        "statewise"
      ],
      "metadata": {
        "id": "Gp6KU9U4RTm8"
      },
      "execution_count": null,
      "outputs": []
    },
    {
      "cell_type": "code",
      "source": [
        "statewise.corr()"
      ],
      "metadata": {
        "id": "qvtXPCAUT8fY"
      },
      "execution_count": null,
      "outputs": []
    },
    {
      "cell_type": "code",
      "source": [
        "Confirmed = df[\"Confirmed\"].sum()\n",
        "Cured = df[\"Cured\"].sum()\n",
        "Death = df[\"Deaths\"].sum()\n",
        "Active = df[\"Active_Cases\"].sum()\n",
        "\n",
        "print('Total Confirmed cases =',Confirmed)\n",
        "print('Total Cured cases =',Cured)\n",
        "print('Total Active cases =',Death)\n",
        "print('Total Death cases =',Active)\n",
        "\n",
        "barplot = sns.barplot(x = [\"Confirmed\",\"Cured\",\"Deaths\",\"Active_cases\"],y =[Confirmed,Cured,Death,Active])\n",
        "barplot.set_yticklabels(labels=(barplot.get_yticks()*1).astype(int))\n",
        "\n",
        "fig = plt.figure(figsize=(20,10))\n",
        "plt.show()\n",
        "\n",
        "\n",
        "\n"
      ],
      "metadata": {
        "id": "ol6EFvLIUADC"
      },
      "execution_count": null,
      "outputs": []
    },
    {
      "cell_type": "code",
      "source": [
        "\n",
        "df_values = [df[\"Confirmed\"].sum(), df[\"Cured\"].sum(), df[\"Deaths\"].sum(), df[\"Active_Cases\"].sum()]\n",
        "\n",
        "df_keys = [\"Confirm\",\"Cure\",\"Death\",\"Active\"]\n",
        "\n",
        "plt.pie(df_values,labels = df_keys, explode = (0.02,0.02,0.1,0.02), autopct = '%.0f%%')\n",
        "\n",
        "\n",
        "plt.legend( [\"Confirmed\",\"Cured\",\"Deaths\",\"Active_Cases\"])\n",
        "\n",
        "fig = plt.figure(figsize=(17,10))\n",
        "\n",
        "plt.show()"
      ],
      "metadata": {
        "id": "YH3nMrYpXpKN"
      },
      "execution_count": null,
      "outputs": []
    },
    {
      "cell_type": "code",
      "source": [
        "fig = plt.figure(figsize = (18,10))\n",
        "\n",
        "\n",
        "highest_active_statewise.groupby([\"State/UnionTerritory\"]).sum()[\"Active_Cases\"].plot(kind = \"pie\",explode=(0.05,0.02,0.03,0.04,0.04,0.05,0.1,0.04,0.09,0.04),autopct='%1.0f%%')\n",
        "plt.title('Top 10 states with most Active cases',size=20)\n",
        "\n",
        "plt.show()"
      ],
      "metadata": {
        "id": "Y1WRQMm7bBY0"
      },
      "execution_count": null,
      "outputs": []
    },
    {
      "cell_type": "code",
      "source": [
        "fig = plt.figure(figsize = (15,7))\n",
        "\n",
        "sns.barplot(data = highest_active_statewise.iloc[:10],y = \"Active_Cases\",x = \"State/UnionTerritory\")\n",
        "\n",
        "plt.title(\"Top 10 states with active cases\",size = 15)\n",
        "\n",
        "plt.show()"
      ],
      "metadata": {
        "id": "RyUo8j2adoxn"
      },
      "execution_count": null,
      "outputs": []
    },
    {
      "cell_type": "code",
      "source": [
        "fig = plt.figure(figsize = (15,7))\n",
        "\n",
        "\n",
        "df_deaths_statewise.groupby([\"State/UnionTerritory\"]).sum()[\"Deaths\"].plot(kind='pie',rot=90,explode=(0.05,0.02,0.03,0.04,0.04,0.05,0.1,0.04,0.09,0.04),autopct='%1.0f%%')\n",
        "\n",
        "plt.title(\"Top 10 states with active cases\",size = 15)\n",
        "\n",
        "plt.show()\n",
        "\n"
      ],
      "metadata": {
        "id": "baGlme9dhtN-"
      },
      "execution_count": null,
      "outputs": []
    },
    {
      "cell_type": "code",
      "source": [
        "fig = plt.figure(figsize = (15,7))\n",
        "\n",
        "sns.barplot(data = df_deaths_statewise.iloc[:10],y = \"Deaths\",x = \"State/UnionTerritory\")\n",
        "\n",
        "plt.title(\"Top 10 states with most deaths\", size = 15)\n",
        "\n",
        "plt.show()\n",
        "\n"
      ],
      "metadata": {
        "id": "aaK__pqKjUJK"
      },
      "execution_count": null,
      "outputs": []
    },
    {
      "cell_type": "code",
      "source": [
        "fig = plt.figure(figsize = (8,4))\n",
        "\n",
        "plot = sns.lineplot(data = df[df[\"State/UnionTerritory\"].isin([\"Maharashtra\",\"Karnataka\",\"Delhi\",\"Uttar Pradesh\",\"Tamil Nadu\"])],x = \"Date\",y = \"Active_Cases\",hue = \"State/UnionTerritory\", size = \"State/UnionTerritory\")\n",
        "\n",
        "plt.title(\"5 most affected states\",size = 20 )\n",
        "\n",
        "plt.show()\n"
      ],
      "metadata": {
        "id": "XYFK2VcJlSlN"
      },
      "execution_count": null,
      "outputs": []
    },
    {
      "cell_type": "code",
      "source": [
        "fig = plt.figure(figsize = (8,4))\n",
        "\n",
        "map = sns.heatmap(df.corr())\n",
        "\n",
        "plt.title(\"Correlation\")\n",
        "\n",
        "plt.show()"
      ],
      "metadata": {
        "id": "VYceZUnaPZ2W"
      },
      "execution_count": null,
      "outputs": []
    },
    {
      "cell_type": "code",
      "source": [
        "df[\"Fatality Ratio\"] = df[\"Deaths\"]/df[\"Confirmed\"]\n",
        "\n",
        "a4_dims = (15,8)\n",
        "fig,ax = plt.subplots(figsize=a4_dims)\n",
        "sns.pointplot(data = df,x='State/UnionTerritory',y='Fatality Ratio',ax=ax,color='Green')\n",
        "plt.xticks(rotation=90)\n",
        "plt.title('Fatality ratio of contaminated states',size=20)\n",
        "plt.show()"
      ],
      "metadata": {
        "id": "GPpwLouJQW_C"
      },
      "execution_count": null,
      "outputs": []
    }
  ]
}