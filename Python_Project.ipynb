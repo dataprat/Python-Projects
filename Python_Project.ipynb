{
  "nbformat": 4,
  "nbformat_minor": 0,
  "metadata": {
    "colab": {
      "provenance": [],
      "authorship_tag": "ABX9TyNc35YCAc8WaF5pb1J3Zwn0"
    },
    "kernelspec": {
      "name": "python3",
      "display_name": "Python 3"
    },
    "language_info": {
      "name": "python"
    }
  },
  "cells": [
    {
      "cell_type": "code",
      "execution_count": null,
      "metadata": {
        "id": "22cDhLdhbjIS"
      },
      "outputs": [],
      "source": [
        "''' Q1:  You are working in a bank and you have been given two lists of the employees who worked in 2021.\n",
        "Employee’s name in list 1 are Ramesh, Suresh, Mahesh, Ali, Jacob and Saritha.\n",
        "List 2 contains the names of Ali, Mukesh, Mahesh, Jacob, Sai, Sarita.\n",
        " Please write a program which helps to identify people who are common in both lists. Please do not use any in-built function. '''"
      ]
    },
    {
      "cell_type": "code",
      "source": [
        "def common_employees():\n",
        "  for i in a:\n",
        "    for j in b:\n",
        "      if i == j:\n",
        "        print(i)\n",
        "a =[\"Ramesh\",\"Suresh\",\"Mahesh\",\"Ali\",\"Jacob\",\"Saritha\"]\n",
        "b = [\"Ali\",\"Mukesh\",\"Mahesh\",\"Jacob\",\"Sai\",\"Sarita\"]\n",
        "\n",
        "common_employees()"
      ],
      "metadata": {
        "id": "TUpunXebb67O",
        "colab": {
          "base_uri": "https://localhost:8080/"
        },
        "outputId": "970e55fe-ce86-4453-de43-a559df1d40b2"
      },
      "execution_count": 1,
      "outputs": [
        {
          "output_type": "stream",
          "name": "stdout",
          "text": [
            "Mahesh\n",
            "Ali\n",
            "Jacob\n"
          ]
        }
      ]
    },
    {
      "cell_type": "code",
      "source": [
        "'''Q2:  While entering data, someone entered a few names as a common string “Ramesh Suresh Mohit”.\n",
        " Please write a program which separates all the names and convert them into a list.\n",
        " Once converted in a list, please write a program which adds their age.'''\n",
        "'''Ramesh : 25\n",
        "   Suresh : 22\n",
        "   Mohit  : 26  '''"
      ],
      "metadata": {
        "id": "bmIskKo0cDZY",
        "colab": {
          "base_uri": "https://localhost:8080/",
          "height": 36
        },
        "outputId": "aa65df82-6da3-460b-f20b-392f8a52fdac"
      },
      "execution_count": 2,
      "outputs": [
        {
          "output_type": "execute_result",
          "data": {
            "text/plain": [
              "'Ramesh : 25\\n   Suresh : 22\\n   Mohit  : 26  '"
            ],
            "application/vnd.google.colaboratory.intrinsic+json": {
              "type": "string"
            }
          },
          "metadata": {},
          "execution_count": 2
        }
      ]
    },
    {
      "cell_type": "code",
      "source": [
        "text = \"Ramesh Suresh Mohit\"\n",
        "l1 = list(text.split())\n",
        "age =[25,22,26]\n",
        "mydict = dict(zip(l1,age))\n",
        "print(mydict)"
      ],
      "metadata": {
        "id": "tKvBhBjZdDID",
        "colab": {
          "base_uri": "https://localhost:8080/"
        },
        "outputId": "7ed0f8c4-a05c-4494-93f4-a8c7cd29a536"
      },
      "execution_count": 3,
      "outputs": [
        {
          "output_type": "stream",
          "name": "stdout",
          "text": [
            "{'Ramesh': 25, 'Suresh': 22, 'Mohit': 26}\n"
          ]
        }
      ]
    },
    {
      "cell_type": "code",
      "source": [
        "''' Q3: A few students from a university have taken three exams\n",
        "Name = Sam, Jacy, Tom, Steve\n",
        "Python = 25, 26, 29, 28\n",
        "Statistics = 23, 21, 19, 25\n",
        "SQL = 29, 27, 28, 25\n",
        "\n",
        "Please write a program which calculates mean values (no in-built function for mean) of all three tests and print the highest mean value.\n",
        " Addition and other functions are allowed. Please also report who scored the highest mark in python using programming construct. '''\n"
      ],
      "metadata": {
        "id": "ydriUwnRdS3e"
      },
      "execution_count": null,
      "outputs": []
    },
    {
      "cell_type": "code",
      "source": [
        "Name =(\"Sam\",\"Jacy\",\"Tom\",\"Steve\")\n",
        "python = (25,26,29,28)\n",
        "statistics = (23,21,19,25)\n",
        "sql = (29,27,28,25)\n",
        "\n",
        "mean1 = sum(python)/len(python)\n",
        "mean2 = sum(statistics)/len(statistics)\n",
        "mean3 = sum(sql)/len(sql)\n",
        "\n",
        "if mean1 > mean3:\n",
        "    print(\"Python has the highest mean value of \",mean1)\n",
        "elif mean2 > mean1:\n",
        "    print(\"Statistics has the highest mean value of \",mean2)\n",
        "else:\n",
        "    print(\"SQL has the highest mean value of \",mean3)\n",
        "\n",
        "\n"
      ],
      "metadata": {
        "colab": {
          "base_uri": "https://localhost:8080/"
        },
        "id": "8pLMzYXLdTxF",
        "outputId": "69e64866-cccc-4703-b7e0-1e1fdce6d22e"
      },
      "execution_count": 4,
      "outputs": [
        {
          "output_type": "stream",
          "name": "stdout",
          "text": [
            "SQL has the highest mean value of  27.25\n"
          ]
        }
      ]
    },
    {
      "cell_type": "code",
      "source": [
        "''' Q4: You are working in a medical store.\n",
        " A patient came to your medical store and asked to buy 2 strips of paracetamol, 3 strips of azithromycin and 5 strips of Vitamin C.\n",
        " One strip of paracetamol costs Rs 35, one strip of azithromycin costs Rs 49 and one strip of vitamin c costs Rs. 33.\n",
        " Patient gave you Rs 2000. Please tell us what is the total cost of each medicine, total cost of all medicine and how much money you refunded to the patient? '''\n"
      ],
      "metadata": {
        "id": "hSdqFoqWdWB1"
      },
      "execution_count": null,
      "outputs": []
    },
    {
      "cell_type": "code",
      "source": [
        "amount = int(input(\"enter the amount \"))\n",
        "\n",
        "paracetamol = 35\n",
        "azithromycin = 49\n",
        "vitamin_c = 33\n",
        "\n",
        "num1 = int(input(\"enter the number of strip of paracetamol \"))\n",
        "num2 = int(input(\"enter the number of strip of azithromycin \"))\n",
        "num3 = int(input(\"enter the number of strip of vitamin_c \"))\n",
        "\n",
        "print(\"The total cost of paracetamol is \",paracetamol * num1)\n",
        "print(\"The total cost of azithromycin is \",azithromycin * num2)\n",
        "print(\"The total cost of vitamin_c is \",vitamin_c * num3)\n",
        "print(\"The total  cost of all medicine is \",paracetamol * num1 + azithromycin * num2 + vitamin_c * num3)\n",
        "print(\"The amount that needs to be refunded is \",amount - paracetamol * num1 -(azithromycin * num2)-(vitamin_c * num3))\n"
      ],
      "metadata": {
        "id": "JGM5-0qJdgR4",
        "colab": {
          "base_uri": "https://localhost:8080/"
        },
        "outputId": "0541ae23-b9fd-4b14-f4e0-546ea3a8b305"
      },
      "execution_count": 5,
      "outputs": [
        {
          "output_type": "stream",
          "name": "stdout",
          "text": [
            "enter the amount 1000\n",
            "enter the number of strip of paracetamol 3\n",
            "enter the number of strip of azithromycin 2\n",
            "enter the number of strip of vitamin_c 6\n",
            "The total cost of paracetamol is  105\n",
            "The total cost of azithromycin is  98\n",
            "The total cost of vitamin_c is  198\n",
            "The total  cost of all medicine is  401\n",
            "The amount that needs to be refunded is  599\n"
          ]
        }
      ]
    },
    {
      "cell_type": "code",
      "source": [
        "''' Q5: Accept a sentence as input and find the number of vowels in it. Assume that the sentence has no punctuation marks.\n",
        " For example: I am learning python contains 6 vowels. This function should be applicable for all other different sentences. '''"
      ],
      "metadata": {
        "id": "hhDBpbH7dk94"
      },
      "execution_count": null,
      "outputs": []
    },
    {
      "cell_type": "code",
      "source": [
        "def count_vowels(text):\n",
        "  vowels = \"aeiouAEIOU\"\n",
        "  count = 0\n",
        "  for i in text:\n",
        "    if i in vowels:\n",
        "      count = count + 1\n",
        "  return count\n",
        "\n",
        "text = input(\"Enter the text \")\n",
        "\n",
        "print (\"The number of vowels in this text is: \",count_vowels(text))"
      ],
      "metadata": {
        "id": "lB9I2u-5dp7O",
        "colab": {
          "base_uri": "https://localhost:8080/"
        },
        "outputId": "45660e48-d168-469b-d799-90a131c17b64"
      },
      "execution_count": 6,
      "outputs": [
        {
          "output_type": "stream",
          "name": "stdout",
          "text": [
            "Enter the text iusbwnu3uihdwo29u29\n",
            "The number of vowels in this text is:  7\n"
          ]
        }
      ]
    },
    {
      "cell_type": "code",
      "source": [
        "''' Q6: You have been appointed by the election commission to create a website.\n",
        " Your first task is to work on a program which tells candidates if they are eligible for voting or not.\n",
        " If they are eligible your output should be ‘Congrats! You are eligible’, otherwise it should tell that you have to return after X number of years.\n",
        " Eligibility criteria for voting is 18 years.\n",
        "For example, If someone is 18 or above your output should be ‘Congrats! You are eligible’.\n",
        " If someone’s age is 15 years it should print output as ‘return after 3 years’. '''"
      ],
      "metadata": {
        "id": "yOCk1XkQdu8B"
      },
      "execution_count": null,
      "outputs": []
    },
    {
      "cell_type": "code",
      "source": [
        "age= int(input(\"Enter your age \"))\n",
        "\n",
        "if age>= 18:\n",
        "  print(\"Congrats! You are Eligible.\")\n",
        "elif 18 - age:\n",
        "  print(\"You have to return after\",18-age,\"years\")"
      ],
      "metadata": {
        "id": "Se4ZYl8Vdzs6",
        "colab": {
          "base_uri": "https://localhost:8080/"
        },
        "outputId": "c3f41c6b-6865-423a-9330-3865b3548e72"
      },
      "execution_count": 7,
      "outputs": [
        {
          "output_type": "stream",
          "name": "stdout",
          "text": [
            "Enter your age 28\n",
            "Congrats! You are Eligible.\n"
          ]
        }
      ]
    }
  ]
}